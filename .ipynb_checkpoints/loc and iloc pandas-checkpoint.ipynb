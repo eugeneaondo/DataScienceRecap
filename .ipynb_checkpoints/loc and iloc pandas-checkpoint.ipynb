{
 "cells": [
  {
   "cell_type": "code",
   "execution_count": 2,
   "id": "8c7d867c",
   "metadata": {},
   "outputs": [
    {
     "data": {
      "text/html": [
       "<div>\n",
       "<style scoped>\n",
       "    .dataframe tbody tr th:only-of-type {\n",
       "        vertical-align: middle;\n",
       "    }\n",
       "\n",
       "    .dataframe tbody tr th {\n",
       "        vertical-align: top;\n",
       "    }\n",
       "\n",
       "    .dataframe thead th {\n",
       "        text-align: right;\n",
       "    }\n",
       "</style>\n",
       "<table border=\"1\" class=\"dataframe\">\n",
       "  <thead>\n",
       "    <tr style=\"text-align: right;\">\n",
       "      <th></th>\n",
       "      <th>identifier</th>\n",
       "      <th>city</th>\n",
       "      <th>zip code</th>\n",
       "      <th>income</th>\n",
       "      <th>repayment</th>\n",
       "      <th>term</th>\n",
       "      <th>type</th>\n",
       "      <th>interest_rate</th>\n",
       "      <th>debt_to_income</th>\n",
       "      <th>total_cost</th>\n",
       "      <th>profit</th>\n",
       "    </tr>\n",
       "  </thead>\n",
       "  <tbody>\n",
       "    <tr>\n",
       "      <th>0</th>\n",
       "      <td>0</td>\n",
       "      <td>CHICAGO</td>\n",
       "      <td>60100</td>\n",
       "      <td>3669.0</td>\n",
       "      <td>1130.05</td>\n",
       "      <td>240</td>\n",
       "      <td>real estate</td>\n",
       "      <td>1.168</td>\n",
       "      <td>30.80</td>\n",
       "      <td>271212.0</td>\n",
       "      <td>131.99</td>\n",
       "    </tr>\n",
       "    <tr>\n",
       "      <th>1</th>\n",
       "      <td>1</td>\n",
       "      <td>DETROIT</td>\n",
       "      <td>48009</td>\n",
       "      <td>5310.0</td>\n",
       "      <td>240.00</td>\n",
       "      <td>64</td>\n",
       "      <td>automobile</td>\n",
       "      <td>3.701</td>\n",
       "      <td>4.52</td>\n",
       "      <td>15360.0</td>\n",
       "      <td>23.69</td>\n",
       "    </tr>\n",
       "    <tr>\n",
       "      <th>2</th>\n",
       "      <td>1</td>\n",
       "      <td>DETROIT</td>\n",
       "      <td>48009</td>\n",
       "      <td>5310.0</td>\n",
       "      <td>1247.85</td>\n",
       "      <td>300</td>\n",
       "      <td>real estate</td>\n",
       "      <td>1.173</td>\n",
       "      <td>23.50</td>\n",
       "      <td>374355.0</td>\n",
       "      <td>182.97</td>\n",
       "    </tr>\n",
       "    <tr>\n",
       "      <th>3</th>\n",
       "      <td>2</td>\n",
       "      <td>SAN FRANCISCO</td>\n",
       "      <td>94010</td>\n",
       "      <td>1873.0</td>\n",
       "      <td>552.54</td>\n",
       "      <td>240</td>\n",
       "      <td>real estate</td>\n",
       "      <td>0.972</td>\n",
       "      <td>29.50</td>\n",
       "      <td>132609.6</td>\n",
       "      <td>53.71</td>\n",
       "    </tr>\n",
       "    <tr>\n",
       "      <th>4</th>\n",
       "      <td>3</td>\n",
       "      <td>SAN FRANCISCO</td>\n",
       "      <td>94010</td>\n",
       "      <td>1684.0</td>\n",
       "      <td>586.03</td>\n",
       "      <td>180</td>\n",
       "      <td>real estate</td>\n",
       "      <td>1.014</td>\n",
       "      <td>34.80</td>\n",
       "      <td>105485.4</td>\n",
       "      <td>44.57</td>\n",
       "    </tr>\n",
       "  </tbody>\n",
       "</table>\n",
       "</div>"
      ],
      "text/plain": [
       "   identifier           city  zip code  income  repayment  term         type  \\\n",
       "0           0        CHICAGO     60100  3669.0    1130.05   240  real estate   \n",
       "1           1        DETROIT     48009  5310.0     240.00    64   automobile   \n",
       "2           1        DETROIT     48009  5310.0    1247.85   300  real estate   \n",
       "3           2  SAN FRANCISCO     94010  1873.0     552.54   240  real estate   \n",
       "4           3  SAN FRANCISCO     94010  1684.0     586.03   180  real estate   \n",
       "\n",
       "   interest_rate  debt_to_income  total_cost  profit  \n",
       "0          1.168           30.80    271212.0  131.99  \n",
       "1          3.701            4.52     15360.0   23.69  \n",
       "2          1.173           23.50    374355.0  182.97  \n",
       "3          0.972           29.50    132609.6   53.71  \n",
       "4          1.014           34.80    105485.4   44.57  "
      ]
     },
     "execution_count": 2,
     "metadata": {},
     "output_type": "execute_result"
    }
   ],
   "source": [
    "import numpy as np\n",
    "import pandas as pd\n",
    "# previous processing\n",
    "loans = pd.read_csv('https://raw.githubusercontent.com/OpenClassrooms-Student-Center/en-8253136-Use-Python-Libraries-for-Data-Science/main/data/loans.csv')\n",
    "\n",
    "# calculate the debt-to-income ratio\n",
    "loans['debt_to_income'] = round(loans['repayment'] * 100 / loans['income'], 2)\n",
    "\n",
    "# rename rate to interest_rate\n",
    "loans.rename(columns={'rate':'interest_rate'}, inplace=True)\n",
    "\n",
    "# calculate the total cost of the loan\n",
    "loans['total_cost'] = loans['repayment'] * loans['term']\n",
    "\n",
    "# calculate monthly profits generated\n",
    "loans['profit'] = round((loans['total_cost'] * loans['interest_rate']/100)/(24), 2)\n",
    "\n",
    "loans.head()\n"
   ]
  },
  {
   "cell_type": "code",
   "execution_count": 12,
   "id": "c6261220",
   "metadata": {},
   "outputs": [],
   "source": [
    "high_risk_cust = loans.loc[loans[\"debt_to_income\"] >35 ]"
   ]
  },
  {
   "cell_type": "code",
   "execution_count": 13,
   "id": "51ce2577",
   "metadata": {},
   "outputs": [
    {
     "data": {
      "text/plain": [
       "(58, 11)"
      ]
     },
     "execution_count": 13,
     "metadata": {},
     "output_type": "execute_result"
    }
   ],
   "source": [
    "high_risk_cust.shape"
   ]
  },
  {
   "cell_type": "code",
   "execution_count": 15,
   "id": "abb5a221",
   "metadata": {},
   "outputs": [],
   "source": [
    "high_risk_cust_det = loans.loc[(loans[\"debt_to_income\"] >35) & (loans[\"city\"] == 'DETROIT') ]"
   ]
  },
  {
   "cell_type": "code",
   "execution_count": 16,
   "id": "d46d05d6",
   "metadata": {},
   "outputs": [
    {
     "data": {
      "text/plain": [
       "(16, 11)"
      ]
     },
     "execution_count": 16,
     "metadata": {},
     "output_type": "execute_result"
    }
   ],
   "source": [
    "high_risk_cust_det.shape"
   ]
  },
  {
   "cell_type": "code",
   "execution_count": 20,
   "id": "a6664a7e",
   "metadata": {},
   "outputs": [],
   "source": [
    "loans[\"risk\"] = \"No\""
   ]
  },
  {
   "cell_type": "code",
   "execution_count": 22,
   "id": "3f08735c",
   "metadata": {},
   "outputs": [],
   "source": [
    "loans.loc[loans[\"debt_to_income\"] >35, \"risk\" ] = 'Yes'"
   ]
  },
  {
   "cell_type": "code",
   "execution_count": 24,
   "id": "bac3bb2b",
   "metadata": {},
   "outputs": [
    {
     "data": {
      "text/html": [
       "<div>\n",
       "<style scoped>\n",
       "    .dataframe tbody tr th:only-of-type {\n",
       "        vertical-align: middle;\n",
       "    }\n",
       "\n",
       "    .dataframe tbody tr th {\n",
       "        vertical-align: top;\n",
       "    }\n",
       "\n",
       "    .dataframe thead th {\n",
       "        text-align: right;\n",
       "    }\n",
       "</style>\n",
       "<table border=\"1\" class=\"dataframe\">\n",
       "  <thead>\n",
       "    <tr style=\"text-align: right;\">\n",
       "      <th></th>\n",
       "      <th>identifier</th>\n",
       "      <th>city</th>\n",
       "      <th>zip code</th>\n",
       "      <th>income</th>\n",
       "      <th>repayment</th>\n",
       "      <th>term</th>\n",
       "      <th>type</th>\n",
       "      <th>interest_rate</th>\n",
       "      <th>debt_to_income</th>\n",
       "      <th>total_cost</th>\n",
       "      <th>profit</th>\n",
       "      <th>risk</th>\n",
       "    </tr>\n",
       "  </thead>\n",
       "  <tbody>\n",
       "    <tr>\n",
       "      <th>239</th>\n",
       "      <td>224</td>\n",
       "      <td>DETROIT</td>\n",
       "      <td>48008</td>\n",
       "      <td>5118.0</td>\n",
       "      <td>1248.79</td>\n",
       "      <td>300</td>\n",
       "      <td>real estate</td>\n",
       "      <td>1.206</td>\n",
       "      <td>24.40</td>\n",
       "      <td>374637.0</td>\n",
       "      <td>188.26</td>\n",
       "      <td>No</td>\n",
       "    </tr>\n",
       "    <tr>\n",
       "      <th>240</th>\n",
       "      <td>224</td>\n",
       "      <td>DETROIT</td>\n",
       "      <td>48008</td>\n",
       "      <td>5118.0</td>\n",
       "      <td>238.20</td>\n",
       "      <td>25</td>\n",
       "      <td>automobile</td>\n",
       "      <td>3.423</td>\n",
       "      <td>4.65</td>\n",
       "      <td>5955.0</td>\n",
       "      <td>8.49</td>\n",
       "      <td>No</td>\n",
       "    </tr>\n",
       "    <tr>\n",
       "      <th>241</th>\n",
       "      <td>225</td>\n",
       "      <td>BALTIMORE</td>\n",
       "      <td>21100</td>\n",
       "      <td>2356.0</td>\n",
       "      <td>876.43</td>\n",
       "      <td>180</td>\n",
       "      <td>real estate</td>\n",
       "      <td>1.172</td>\n",
       "      <td>37.20</td>\n",
       "      <td>157757.4</td>\n",
       "      <td>77.04</td>\n",
       "      <td>Yes</td>\n",
       "    </tr>\n",
       "    <tr>\n",
       "      <th>242</th>\n",
       "      <td>226</td>\n",
       "      <td>DETROIT</td>\n",
       "      <td>48002</td>\n",
       "      <td>5098.0</td>\n",
       "      <td>2910.96</td>\n",
       "      <td>240</td>\n",
       "      <td>real estate</td>\n",
       "      <td>1.140</td>\n",
       "      <td>57.10</td>\n",
       "      <td>698630.4</td>\n",
       "      <td>331.85</td>\n",
       "      <td>Yes</td>\n",
       "    </tr>\n",
       "    <tr>\n",
       "      <th>243</th>\n",
       "      <td>227</td>\n",
       "      <td>DETROIT</td>\n",
       "      <td>48015</td>\n",
       "      <td>2348.0</td>\n",
       "      <td>434.38</td>\n",
       "      <td>300</td>\n",
       "      <td>real estate</td>\n",
       "      <td>1.157</td>\n",
       "      <td>18.50</td>\n",
       "      <td>130314.0</td>\n",
       "      <td>62.82</td>\n",
       "      <td>No</td>\n",
       "    </tr>\n",
       "  </tbody>\n",
       "</table>\n",
       "</div>"
      ],
      "text/plain": [
       "     identifier       city  zip code  income  repayment  term         type  \\\n",
       "239         224    DETROIT     48008  5118.0    1248.79   300  real estate   \n",
       "240         224    DETROIT     48008  5118.0     238.20    25   automobile   \n",
       "241         225  BALTIMORE     21100  2356.0     876.43   180  real estate   \n",
       "242         226    DETROIT     48002  5098.0    2910.96   240  real estate   \n",
       "243         227    DETROIT     48015  2348.0     434.38   300  real estate   \n",
       "\n",
       "     interest_rate  debt_to_income  total_cost  profit risk  \n",
       "239          1.206           24.40    374637.0  188.26   No  \n",
       "240          3.423            4.65      5955.0    8.49   No  \n",
       "241          1.172           37.20    157757.4   77.04  Yes  \n",
       "242          1.140           57.10    698630.4  331.85  Yes  \n",
       "243          1.157           18.50    130314.0   62.82   No  "
      ]
     },
     "execution_count": 24,
     "metadata": {},
     "output_type": "execute_result"
    }
   ],
   "source": [
    "loans.tail()"
   ]
  },
  {
   "cell_type": "code",
   "execution_count": 25,
   "id": "d05133b5",
   "metadata": {},
   "outputs": [],
   "source": [
    "automobile_loans = loans.loc[loans[\"type\"] ==\"automobile\"]"
   ]
  },
  {
   "cell_type": "code",
   "execution_count": 27,
   "id": "92ecb0b8",
   "metadata": {},
   "outputs": [
    {
     "data": {
      "text/plain": [
       "(16, 12)"
      ]
     },
     "execution_count": 27,
     "metadata": {},
     "output_type": "execute_result"
    }
   ],
   "source": [
    "automobile_loans.shape"
   ]
  },
  {
   "cell_type": "code",
   "execution_count": 30,
   "id": "7d4c0774",
   "metadata": {},
   "outputs": [],
   "source": [
    "Total = automobile_loans[\"total_cost\"].sum()"
   ]
  },
  {
   "cell_type": "code",
   "execution_count": 32,
   "id": "0948e043",
   "metadata": {},
   "outputs": [
    {
     "data": {
      "text/plain": [
       "218640.0"
      ]
     },
     "execution_count": 32,
     "metadata": {},
     "output_type": "execute_result"
    }
   ],
   "source": [
    "Total"
   ]
  },
  {
   "cell_type": "code",
   "execution_count": null,
   "id": "d3424839",
   "metadata": {
    "collapsed": true
   },
   "outputs": [],
   "source": []
  }
 ],
 "metadata": {
  "kernelspec": {
   "display_name": "Python 3 (ipykernel)",
   "language": "python",
   "name": "python3"
  },
  "language_info": {
   "codemirror_mode": {
    "name": "ipython",
    "version": 3
   },
   "file_extension": ".py",
   "mimetype": "text/x-python",
   "name": "python",
   "nbconvert_exporter": "python",
   "pygments_lexer": "ipython3",
   "version": "3.9.12"
  }
 },
 "nbformat": 4,
 "nbformat_minor": 5
}
