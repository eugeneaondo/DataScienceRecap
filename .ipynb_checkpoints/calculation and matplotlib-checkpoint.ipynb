{
 "cells": [
  {
   "cell_type": "code",
   "execution_count": 49,
   "id": "32ad373d",
   "metadata": {},
   "outputs": [],
   "source": [
    "import numpy as np\n",
    "import pandas as pd"
   ]
  },
  {
   "cell_type": "code",
   "execution_count": 50,
   "id": "0052424f",
   "metadata": {},
   "outputs": [
    {
     "data": {
      "text/html": [
       "<div>\n",
       "<style scoped>\n",
       "    .dataframe tbody tr th:only-of-type {\n",
       "        vertical-align: middle;\n",
       "    }\n",
       "\n",
       "    .dataframe tbody tr th {\n",
       "        vertical-align: top;\n",
       "    }\n",
       "\n",
       "    .dataframe thead th {\n",
       "        text-align: right;\n",
       "    }\n",
       "</style>\n",
       "<table border=\"1\" class=\"dataframe\">\n",
       "  <thead>\n",
       "    <tr style=\"text-align: right;\">\n",
       "      <th></th>\n",
       "      <th>identifier</th>\n",
       "      <th>city</th>\n",
       "      <th>zip code</th>\n",
       "      <th>income</th>\n",
       "      <th>repayment</th>\n",
       "      <th>term</th>\n",
       "      <th>type</th>\n",
       "      <th>interest_rate</th>\n",
       "      <th>debt_to_income</th>\n",
       "      <th>total_cost</th>\n",
       "      <th>profit</th>\n",
       "      <th>risk</th>\n",
       "    </tr>\n",
       "  </thead>\n",
       "  <tbody>\n",
       "    <tr>\n",
       "      <th>0</th>\n",
       "      <td>0</td>\n",
       "      <td>CHICAGO</td>\n",
       "      <td>60100</td>\n",
       "      <td>3669.0</td>\n",
       "      <td>1130.05</td>\n",
       "      <td>240</td>\n",
       "      <td>real estate</td>\n",
       "      <td>1.168</td>\n",
       "      <td>30.80</td>\n",
       "      <td>271212.0</td>\n",
       "      <td>131.99</td>\n",
       "      <td>No</td>\n",
       "    </tr>\n",
       "    <tr>\n",
       "      <th>1</th>\n",
       "      <td>1</td>\n",
       "      <td>DETROIT</td>\n",
       "      <td>48009</td>\n",
       "      <td>5310.0</td>\n",
       "      <td>240.00</td>\n",
       "      <td>64</td>\n",
       "      <td>automobile</td>\n",
       "      <td>3.701</td>\n",
       "      <td>4.52</td>\n",
       "      <td>15360.0</td>\n",
       "      <td>23.69</td>\n",
       "      <td>No</td>\n",
       "    </tr>\n",
       "    <tr>\n",
       "      <th>2</th>\n",
       "      <td>1</td>\n",
       "      <td>DETROIT</td>\n",
       "      <td>48009</td>\n",
       "      <td>5310.0</td>\n",
       "      <td>1247.85</td>\n",
       "      <td>300</td>\n",
       "      <td>real estate</td>\n",
       "      <td>1.173</td>\n",
       "      <td>23.50</td>\n",
       "      <td>374355.0</td>\n",
       "      <td>182.97</td>\n",
       "      <td>No</td>\n",
       "    </tr>\n",
       "    <tr>\n",
       "      <th>3</th>\n",
       "      <td>2</td>\n",
       "      <td>SAN FRANCISCO</td>\n",
       "      <td>94010</td>\n",
       "      <td>1873.0</td>\n",
       "      <td>552.54</td>\n",
       "      <td>240</td>\n",
       "      <td>real estate</td>\n",
       "      <td>0.972</td>\n",
       "      <td>29.50</td>\n",
       "      <td>132609.6</td>\n",
       "      <td>53.71</td>\n",
       "      <td>No</td>\n",
       "    </tr>\n",
       "    <tr>\n",
       "      <th>4</th>\n",
       "      <td>3</td>\n",
       "      <td>SAN FRANCISCO</td>\n",
       "      <td>94010</td>\n",
       "      <td>1684.0</td>\n",
       "      <td>586.03</td>\n",
       "      <td>180</td>\n",
       "      <td>real estate</td>\n",
       "      <td>1.014</td>\n",
       "      <td>34.80</td>\n",
       "      <td>105485.4</td>\n",
       "      <td>44.57</td>\n",
       "      <td>No</td>\n",
       "    </tr>\n",
       "  </tbody>\n",
       "</table>\n",
       "</div>"
      ],
      "text/plain": [
       "   identifier           city  zip code  income  repayment  term         type  \\\n",
       "0           0        CHICAGO     60100  3669.0    1130.05   240  real estate   \n",
       "1           1        DETROIT     48009  5310.0     240.00    64   automobile   \n",
       "2           1        DETROIT     48009  5310.0    1247.85   300  real estate   \n",
       "3           2  SAN FRANCISCO     94010  1873.0     552.54   240  real estate   \n",
       "4           3  SAN FRANCISCO     94010  1684.0     586.03   180  real estate   \n",
       "\n",
       "   interest_rate  debt_to_income  total_cost  profit risk  \n",
       "0          1.168           30.80    271212.0  131.99   No  \n",
       "1          3.701            4.52     15360.0   23.69   No  \n",
       "2          1.173           23.50    374355.0  182.97   No  \n",
       "3          0.972           29.50    132609.6   53.71   No  \n",
       "4          1.014           34.80    105485.4   44.57   No  "
      ]
     },
     "execution_count": 50,
     "metadata": {},
     "output_type": "execute_result"
    }
   ],
   "source": [
    "# previous processing\n",
    "loans = pd.read_csv('https://raw.githubusercontent.com/OpenClassrooms-Student-Center/en-8253136-Use-Python-Libraries-for-Data-Science/main/data/loans.csv')\n",
    "\n",
    "# calculate the debt-to-income ratio\n",
    "loans['debt_to_income'] = round(loans['repayment'] * 100 / loans['income'], 2)\n",
    "\n",
    "# rename rate to interest_rate\n",
    "loans.rename(columns={'rate':'interest_rate'}, inplace=True)\n",
    "\n",
    "# calculate the total cost of the loan\n",
    "loans['total_cost'] = loans['repayment'] * loans['term']\n",
    "\n",
    "# calculate monthly profits generated\n",
    "loans['profit'] = round((loans['total_cost'] * loans['interest_rate']/100)/(24), 2)\n",
    "\n",
    "# create the risk variable\n",
    "loans['risk'] = 'No'\n",
    "loans.loc[loans['debt_to_income'] > 35, 'risk'] = 'Yes'\n",
    "\n",
    "# customer profile DataFrame\n",
    "customer_profile = loans.groupby('identifier')[['repayment','debt_to_income','total_cost','profit']].sum()\n",
    "customer_profile.reset_index(inplace=True)\n",
    "customer_profile.head()\n",
    "\n",
    "loans.head()"
   ]
  },
  {
   "cell_type": "code",
   "execution_count": 51,
   "id": "76b97ca3",
   "metadata": {},
   "outputs": [
    {
     "data": {
      "text/html": [
       "<div>\n",
       "<style scoped>\n",
       "    .dataframe tbody tr th:only-of-type {\n",
       "        vertical-align: middle;\n",
       "    }\n",
       "\n",
       "    .dataframe tbody tr th {\n",
       "        vertical-align: top;\n",
       "    }\n",
       "\n",
       "    .dataframe thead th {\n",
       "        text-align: right;\n",
       "    }\n",
       "</style>\n",
       "<table border=\"1\" class=\"dataframe\">\n",
       "  <thead>\n",
       "    <tr style=\"text-align: right;\">\n",
       "      <th></th>\n",
       "      <th>identifier</th>\n",
       "      <th>email</th>\n",
       "      <th>name</th>\n",
       "      <th>gender</th>\n",
       "    </tr>\n",
       "  </thead>\n",
       "  <tbody>\n",
       "    <tr>\n",
       "      <th>0</th>\n",
       "      <td>0</td>\n",
       "      <td>JohnSmith@rhyta.com</td>\n",
       "      <td>John Smith</td>\n",
       "      <td>M</td>\n",
       "    </tr>\n",
       "    <tr>\n",
       "      <th>1</th>\n",
       "      <td>1</td>\n",
       "      <td>MaryJohnson@fleckens.hu</td>\n",
       "      <td>Mary Johnson</td>\n",
       "      <td>F</td>\n",
       "    </tr>\n",
       "    <tr>\n",
       "      <th>2</th>\n",
       "      <td>2</td>\n",
       "      <td>WilliamBrown@einrot.com</td>\n",
       "      <td>William Brown</td>\n",
       "      <td>M</td>\n",
       "    </tr>\n",
       "    <tr>\n",
       "      <th>3</th>\n",
       "      <td>3</td>\n",
       "      <td>JamesLee@armyspy.com</td>\n",
       "      <td>James Lee</td>\n",
       "      <td>M</td>\n",
       "    </tr>\n",
       "    <tr>\n",
       "      <th>4</th>\n",
       "      <td>4</td>\n",
       "      <td>PatriciaGarcia@rhyta.com</td>\n",
       "      <td>Patricia Garcia</td>\n",
       "      <td>F</td>\n",
       "    </tr>\n",
       "  </tbody>\n",
       "</table>\n",
       "</div>"
      ],
      "text/plain": [
       "   identifier                     email             name gender\n",
       "0           0       JohnSmith@rhyta.com       John Smith      M\n",
       "1           1   MaryJohnson@fleckens.hu     Mary Johnson      F\n",
       "2           2   WilliamBrown@einrot.com    William Brown      M\n",
       "3           3      JamesLee@armyspy.com        James Lee      M\n",
       "4           4  PatriciaGarcia@rhyta.com  Patricia Garcia      F"
      ]
     },
     "execution_count": 51,
     "metadata": {},
     "output_type": "execute_result"
    }
   ],
   "source": [
    "customers_1 = pd.read_csv('https://raw.githubusercontent.com/OpenClassrooms-Student-Center/en-8253136-Use-Python-Libraries-for-Data-Science/main/data/customers.csv')\n",
    "customers_1.head()"
   ]
  },
  {
   "cell_type": "code",
   "execution_count": 52,
   "id": "5d4d0b0b",
   "metadata": {},
   "outputs": [
    {
     "data": {
      "text/html": [
       "<div>\n",
       "<style scoped>\n",
       "    .dataframe tbody tr th:only-of-type {\n",
       "        vertical-align: middle;\n",
       "    }\n",
       "\n",
       "    .dataframe tbody tr th {\n",
       "        vertical-align: top;\n",
       "    }\n",
       "\n",
       "    .dataframe thead th {\n",
       "        text-align: right;\n",
       "    }\n",
       "</style>\n",
       "<table border=\"1\" class=\"dataframe\">\n",
       "  <thead>\n",
       "    <tr style=\"text-align: right;\">\n",
       "      <th></th>\n",
       "      <th>identifier</th>\n",
       "      <th>email</th>\n",
       "      <th>name</th>\n",
       "      <th>gender</th>\n",
       "    </tr>\n",
       "  </thead>\n",
       "  <tbody>\n",
       "    <tr>\n",
       "      <th>0</th>\n",
       "      <td>150</td>\n",
       "      <td>EricHayes@teleworm.us</td>\n",
       "      <td>Eric Hayes</td>\n",
       "      <td>M</td>\n",
       "    </tr>\n",
       "    <tr>\n",
       "      <th>1</th>\n",
       "      <td>151</td>\n",
       "      <td>MonaMoreno@armyspy.com</td>\n",
       "      <td>Mona Moreno</td>\n",
       "      <td>F</td>\n",
       "    </tr>\n",
       "    <tr>\n",
       "      <th>2</th>\n",
       "      <td>152</td>\n",
       "      <td>VincentCraig@einrot.com</td>\n",
       "      <td>Vincent Craig</td>\n",
       "      <td>M</td>\n",
       "    </tr>\n",
       "    <tr>\n",
       "      <th>3</th>\n",
       "      <td>153</td>\n",
       "      <td>GlendaParsons@cuvox.de</td>\n",
       "      <td>Glenda Parsons</td>\n",
       "      <td>F</td>\n",
       "    </tr>\n",
       "    <tr>\n",
       "      <th>4</th>\n",
       "      <td>154</td>\n",
       "      <td>RogerWatkins@dayrep.com</td>\n",
       "      <td>Roger Watkins</td>\n",
       "      <td>M</td>\n",
       "    </tr>\n",
       "  </tbody>\n",
       "</table>\n",
       "</div>"
      ],
      "text/plain": [
       "   identifier                    email            name gender\n",
       "0         150    EricHayes@teleworm.us      Eric Hayes      M\n",
       "1         151   MonaMoreno@armyspy.com     Mona Moreno      F\n",
       "2         152  VincentCraig@einrot.com   Vincent Craig      M\n",
       "3         153   GlendaParsons@cuvox.de  Glenda Parsons      F\n",
       "4         154  RogerWatkins@dayrep.com   Roger Watkins      M"
      ]
     },
     "execution_count": 52,
     "metadata": {},
     "output_type": "execute_result"
    }
   ],
   "source": [
    "customers_2 = pd.read_csv('https://raw.githubusercontent.com/OpenClassrooms-Student-Center/en-8253136-Use-Python-Libraries-for-Data-Science/main/data/customers_cont.csv')\n",
    "customers_2.head()\n"
   ]
  },
  {
   "cell_type": "code",
   "execution_count": 53,
   "id": "bd948465",
   "metadata": {},
   "outputs": [],
   "source": [
    "customers = pd.concat([customers_1,customers_2] , ignore_index=True)"
   ]
  },
  {
   "cell_type": "code",
   "execution_count": 54,
   "id": "f159330f",
   "metadata": {},
   "outputs": [
    {
     "data": {
      "text/html": [
       "<div>\n",
       "<style scoped>\n",
       "    .dataframe tbody tr th:only-of-type {\n",
       "        vertical-align: middle;\n",
       "    }\n",
       "\n",
       "    .dataframe tbody tr th {\n",
       "        vertical-align: top;\n",
       "    }\n",
       "\n",
       "    .dataframe thead th {\n",
       "        text-align: right;\n",
       "    }\n",
       "</style>\n",
       "<table border=\"1\" class=\"dataframe\">\n",
       "  <thead>\n",
       "    <tr style=\"text-align: right;\">\n",
       "      <th></th>\n",
       "      <th>identifier</th>\n",
       "      <th>email</th>\n",
       "      <th>name</th>\n",
       "      <th>gender</th>\n",
       "    </tr>\n",
       "  </thead>\n",
       "  <tbody>\n",
       "    <tr>\n",
       "      <th>0</th>\n",
       "      <td>0</td>\n",
       "      <td>JohnSmith@rhyta.com</td>\n",
       "      <td>John Smith</td>\n",
       "      <td>M</td>\n",
       "    </tr>\n",
       "    <tr>\n",
       "      <th>1</th>\n",
       "      <td>1</td>\n",
       "      <td>MaryJohnson@fleckens.hu</td>\n",
       "      <td>Mary Johnson</td>\n",
       "      <td>F</td>\n",
       "    </tr>\n",
       "    <tr>\n",
       "      <th>2</th>\n",
       "      <td>2</td>\n",
       "      <td>WilliamBrown@einrot.com</td>\n",
       "      <td>William Brown</td>\n",
       "      <td>M</td>\n",
       "    </tr>\n",
       "    <tr>\n",
       "      <th>3</th>\n",
       "      <td>3</td>\n",
       "      <td>JamesLee@armyspy.com</td>\n",
       "      <td>James Lee</td>\n",
       "      <td>M</td>\n",
       "    </tr>\n",
       "    <tr>\n",
       "      <th>4</th>\n",
       "      <td>4</td>\n",
       "      <td>PatriciaGarcia@rhyta.com</td>\n",
       "      <td>Patricia Garcia</td>\n",
       "      <td>F</td>\n",
       "    </tr>\n",
       "    <tr>\n",
       "      <th>...</th>\n",
       "      <td>...</td>\n",
       "      <td>...</td>\n",
       "      <td>...</td>\n",
       "      <td>...</td>\n",
       "    </tr>\n",
       "    <tr>\n",
       "      <th>223</th>\n",
       "      <td>223</td>\n",
       "      <td>GordonFreeman@cuvox.de</td>\n",
       "      <td>Gordon Freeman</td>\n",
       "      <td>M</td>\n",
       "    </tr>\n",
       "    <tr>\n",
       "      <th>224</th>\n",
       "      <td>224</td>\n",
       "      <td>AgnesWelch@armyspy.com</td>\n",
       "      <td>Agnes Welch</td>\n",
       "      <td>F</td>\n",
       "    </tr>\n",
       "    <tr>\n",
       "      <th>225</th>\n",
       "      <td>225</td>\n",
       "      <td>MarionStokes@teleworm.us</td>\n",
       "      <td>Marion Stokes</td>\n",
       "      <td>M</td>\n",
       "    </tr>\n",
       "    <tr>\n",
       "      <th>226</th>\n",
       "      <td>226</td>\n",
       "      <td>GinaBeck@fleckens.hu</td>\n",
       "      <td>Gina Beck</td>\n",
       "      <td>F</td>\n",
       "    </tr>\n",
       "    <tr>\n",
       "      <th>227</th>\n",
       "      <td>227</td>\n",
       "      <td>BeatricePalmer@rhyta.com</td>\n",
       "      <td>Beatrice Palmer</td>\n",
       "      <td>F</td>\n",
       "    </tr>\n",
       "  </tbody>\n",
       "</table>\n",
       "<p>228 rows × 4 columns</p>\n",
       "</div>"
      ],
      "text/plain": [
       "     identifier                     email             name gender\n",
       "0             0       JohnSmith@rhyta.com       John Smith      M\n",
       "1             1   MaryJohnson@fleckens.hu     Mary Johnson      F\n",
       "2             2   WilliamBrown@einrot.com    William Brown      M\n",
       "3             3      JamesLee@armyspy.com        James Lee      M\n",
       "4             4  PatriciaGarcia@rhyta.com  Patricia Garcia      F\n",
       "..          ...                       ...              ...    ...\n",
       "223         223    GordonFreeman@cuvox.de   Gordon Freeman      M\n",
       "224         224    AgnesWelch@armyspy.com      Agnes Welch      F\n",
       "225         225  MarionStokes@teleworm.us    Marion Stokes      M\n",
       "226         226      GinaBeck@fleckens.hu        Gina Beck      F\n",
       "227         227  BeatricePalmer@rhyta.com  Beatrice Palmer      F\n",
       "\n",
       "[228 rows x 4 columns]"
      ]
     },
     "execution_count": 54,
     "metadata": {},
     "output_type": "execute_result"
    }
   ],
   "source": [
    "customers"
   ]
  },
  {
   "cell_type": "code",
   "execution_count": 55,
   "id": "163fb3dd",
   "metadata": {},
   "outputs": [
    {
     "data": {
      "text/plain": [
       "(228, 4)"
      ]
     },
     "execution_count": 55,
     "metadata": {},
     "output_type": "execute_result"
    }
   ],
   "source": [
    "customers.shape"
   ]
  },
  {
   "cell_type": "code",
   "execution_count": 56,
   "id": "4fccebd2",
   "metadata": {},
   "outputs": [],
   "source": [
    "customer_profile = pd.merge(customers, loans ,  on = \"identifier\")"
   ]
  },
  {
   "cell_type": "code",
   "execution_count": 57,
   "id": "07e91ca3",
   "metadata": {},
   "outputs": [
    {
     "data": {
      "text/html": [
       "<div>\n",
       "<style scoped>\n",
       "    .dataframe tbody tr th:only-of-type {\n",
       "        vertical-align: middle;\n",
       "    }\n",
       "\n",
       "    .dataframe tbody tr th {\n",
       "        vertical-align: top;\n",
       "    }\n",
       "\n",
       "    .dataframe thead th {\n",
       "        text-align: right;\n",
       "    }\n",
       "</style>\n",
       "<table border=\"1\" class=\"dataframe\">\n",
       "  <thead>\n",
       "    <tr style=\"text-align: right;\">\n",
       "      <th></th>\n",
       "      <th>identifier</th>\n",
       "      <th>email</th>\n",
       "      <th>name</th>\n",
       "      <th>gender</th>\n",
       "      <th>city</th>\n",
       "      <th>zip code</th>\n",
       "      <th>income</th>\n",
       "      <th>repayment</th>\n",
       "      <th>term</th>\n",
       "      <th>type</th>\n",
       "      <th>interest_rate</th>\n",
       "      <th>debt_to_income</th>\n",
       "      <th>total_cost</th>\n",
       "      <th>profit</th>\n",
       "      <th>risk</th>\n",
       "    </tr>\n",
       "  </thead>\n",
       "  <tbody>\n",
       "    <tr>\n",
       "      <th>0</th>\n",
       "      <td>0</td>\n",
       "      <td>JohnSmith@rhyta.com</td>\n",
       "      <td>John Smith</td>\n",
       "      <td>M</td>\n",
       "      <td>CHICAGO</td>\n",
       "      <td>60100</td>\n",
       "      <td>3669.0</td>\n",
       "      <td>1130.05</td>\n",
       "      <td>240</td>\n",
       "      <td>real estate</td>\n",
       "      <td>1.168</td>\n",
       "      <td>30.80</td>\n",
       "      <td>271212.0</td>\n",
       "      <td>131.99</td>\n",
       "      <td>No</td>\n",
       "    </tr>\n",
       "    <tr>\n",
       "      <th>1</th>\n",
       "      <td>1</td>\n",
       "      <td>MaryJohnson@fleckens.hu</td>\n",
       "      <td>Mary Johnson</td>\n",
       "      <td>F</td>\n",
       "      <td>DETROIT</td>\n",
       "      <td>48009</td>\n",
       "      <td>5310.0</td>\n",
       "      <td>240.00</td>\n",
       "      <td>64</td>\n",
       "      <td>automobile</td>\n",
       "      <td>3.701</td>\n",
       "      <td>4.52</td>\n",
       "      <td>15360.0</td>\n",
       "      <td>23.69</td>\n",
       "      <td>No</td>\n",
       "    </tr>\n",
       "    <tr>\n",
       "      <th>2</th>\n",
       "      <td>1</td>\n",
       "      <td>MaryJohnson@fleckens.hu</td>\n",
       "      <td>Mary Johnson</td>\n",
       "      <td>F</td>\n",
       "      <td>DETROIT</td>\n",
       "      <td>48009</td>\n",
       "      <td>5310.0</td>\n",
       "      <td>1247.85</td>\n",
       "      <td>300</td>\n",
       "      <td>real estate</td>\n",
       "      <td>1.173</td>\n",
       "      <td>23.50</td>\n",
       "      <td>374355.0</td>\n",
       "      <td>182.97</td>\n",
       "      <td>No</td>\n",
       "    </tr>\n",
       "    <tr>\n",
       "      <th>3</th>\n",
       "      <td>2</td>\n",
       "      <td>WilliamBrown@einrot.com</td>\n",
       "      <td>William Brown</td>\n",
       "      <td>M</td>\n",
       "      <td>SAN FRANCISCO</td>\n",
       "      <td>94010</td>\n",
       "      <td>1873.0</td>\n",
       "      <td>552.54</td>\n",
       "      <td>240</td>\n",
       "      <td>real estate</td>\n",
       "      <td>0.972</td>\n",
       "      <td>29.50</td>\n",
       "      <td>132609.6</td>\n",
       "      <td>53.71</td>\n",
       "      <td>No</td>\n",
       "    </tr>\n",
       "    <tr>\n",
       "      <th>4</th>\n",
       "      <td>3</td>\n",
       "      <td>JamesLee@armyspy.com</td>\n",
       "      <td>James Lee</td>\n",
       "      <td>M</td>\n",
       "      <td>SAN FRANCISCO</td>\n",
       "      <td>94010</td>\n",
       "      <td>1684.0</td>\n",
       "      <td>586.03</td>\n",
       "      <td>180</td>\n",
       "      <td>real estate</td>\n",
       "      <td>1.014</td>\n",
       "      <td>34.80</td>\n",
       "      <td>105485.4</td>\n",
       "      <td>44.57</td>\n",
       "      <td>No</td>\n",
       "    </tr>\n",
       "    <tr>\n",
       "      <th>...</th>\n",
       "      <td>...</td>\n",
       "      <td>...</td>\n",
       "      <td>...</td>\n",
       "      <td>...</td>\n",
       "      <td>...</td>\n",
       "      <td>...</td>\n",
       "      <td>...</td>\n",
       "      <td>...</td>\n",
       "      <td>...</td>\n",
       "      <td>...</td>\n",
       "      <td>...</td>\n",
       "      <td>...</td>\n",
       "      <td>...</td>\n",
       "      <td>...</td>\n",
       "      <td>...</td>\n",
       "    </tr>\n",
       "    <tr>\n",
       "      <th>239</th>\n",
       "      <td>224</td>\n",
       "      <td>AgnesWelch@armyspy.com</td>\n",
       "      <td>Agnes Welch</td>\n",
       "      <td>F</td>\n",
       "      <td>DETROIT</td>\n",
       "      <td>48008</td>\n",
       "      <td>5118.0</td>\n",
       "      <td>1248.79</td>\n",
       "      <td>300</td>\n",
       "      <td>real estate</td>\n",
       "      <td>1.206</td>\n",
       "      <td>24.40</td>\n",
       "      <td>374637.0</td>\n",
       "      <td>188.26</td>\n",
       "      <td>No</td>\n",
       "    </tr>\n",
       "    <tr>\n",
       "      <th>240</th>\n",
       "      <td>224</td>\n",
       "      <td>AgnesWelch@armyspy.com</td>\n",
       "      <td>Agnes Welch</td>\n",
       "      <td>F</td>\n",
       "      <td>DETROIT</td>\n",
       "      <td>48008</td>\n",
       "      <td>5118.0</td>\n",
       "      <td>238.20</td>\n",
       "      <td>25</td>\n",
       "      <td>automobile</td>\n",
       "      <td>3.423</td>\n",
       "      <td>4.65</td>\n",
       "      <td>5955.0</td>\n",
       "      <td>8.49</td>\n",
       "      <td>No</td>\n",
       "    </tr>\n",
       "    <tr>\n",
       "      <th>241</th>\n",
       "      <td>225</td>\n",
       "      <td>MarionStokes@teleworm.us</td>\n",
       "      <td>Marion Stokes</td>\n",
       "      <td>M</td>\n",
       "      <td>BALTIMORE</td>\n",
       "      <td>21100</td>\n",
       "      <td>2356.0</td>\n",
       "      <td>876.43</td>\n",
       "      <td>180</td>\n",
       "      <td>real estate</td>\n",
       "      <td>1.172</td>\n",
       "      <td>37.20</td>\n",
       "      <td>157757.4</td>\n",
       "      <td>77.04</td>\n",
       "      <td>Yes</td>\n",
       "    </tr>\n",
       "    <tr>\n",
       "      <th>242</th>\n",
       "      <td>226</td>\n",
       "      <td>GinaBeck@fleckens.hu</td>\n",
       "      <td>Gina Beck</td>\n",
       "      <td>F</td>\n",
       "      <td>DETROIT</td>\n",
       "      <td>48002</td>\n",
       "      <td>5098.0</td>\n",
       "      <td>2910.96</td>\n",
       "      <td>240</td>\n",
       "      <td>real estate</td>\n",
       "      <td>1.140</td>\n",
       "      <td>57.10</td>\n",
       "      <td>698630.4</td>\n",
       "      <td>331.85</td>\n",
       "      <td>Yes</td>\n",
       "    </tr>\n",
       "    <tr>\n",
       "      <th>243</th>\n",
       "      <td>227</td>\n",
       "      <td>BeatricePalmer@rhyta.com</td>\n",
       "      <td>Beatrice Palmer</td>\n",
       "      <td>F</td>\n",
       "      <td>DETROIT</td>\n",
       "      <td>48015</td>\n",
       "      <td>2348.0</td>\n",
       "      <td>434.38</td>\n",
       "      <td>300</td>\n",
       "      <td>real estate</td>\n",
       "      <td>1.157</td>\n",
       "      <td>18.50</td>\n",
       "      <td>130314.0</td>\n",
       "      <td>62.82</td>\n",
       "      <td>No</td>\n",
       "    </tr>\n",
       "  </tbody>\n",
       "</table>\n",
       "<p>244 rows × 15 columns</p>\n",
       "</div>"
      ],
      "text/plain": [
       "     identifier                     email             name gender  \\\n",
       "0             0       JohnSmith@rhyta.com       John Smith      M   \n",
       "1             1   MaryJohnson@fleckens.hu     Mary Johnson      F   \n",
       "2             1   MaryJohnson@fleckens.hu     Mary Johnson      F   \n",
       "3             2   WilliamBrown@einrot.com    William Brown      M   \n",
       "4             3      JamesLee@armyspy.com        James Lee      M   \n",
       "..          ...                       ...              ...    ...   \n",
       "239         224    AgnesWelch@armyspy.com      Agnes Welch      F   \n",
       "240         224    AgnesWelch@armyspy.com      Agnes Welch      F   \n",
       "241         225  MarionStokes@teleworm.us    Marion Stokes      M   \n",
       "242         226      GinaBeck@fleckens.hu        Gina Beck      F   \n",
       "243         227  BeatricePalmer@rhyta.com  Beatrice Palmer      F   \n",
       "\n",
       "              city  zip code  income  repayment  term         type  \\\n",
       "0          CHICAGO     60100  3669.0    1130.05   240  real estate   \n",
       "1          DETROIT     48009  5310.0     240.00    64   automobile   \n",
       "2          DETROIT     48009  5310.0    1247.85   300  real estate   \n",
       "3    SAN FRANCISCO     94010  1873.0     552.54   240  real estate   \n",
       "4    SAN FRANCISCO     94010  1684.0     586.03   180  real estate   \n",
       "..             ...       ...     ...        ...   ...          ...   \n",
       "239        DETROIT     48008  5118.0    1248.79   300  real estate   \n",
       "240        DETROIT     48008  5118.0     238.20    25   automobile   \n",
       "241      BALTIMORE     21100  2356.0     876.43   180  real estate   \n",
       "242        DETROIT     48002  5098.0    2910.96   240  real estate   \n",
       "243        DETROIT     48015  2348.0     434.38   300  real estate   \n",
       "\n",
       "     interest_rate  debt_to_income  total_cost  profit risk  \n",
       "0            1.168           30.80    271212.0  131.99   No  \n",
       "1            3.701            4.52     15360.0   23.69   No  \n",
       "2            1.173           23.50    374355.0  182.97   No  \n",
       "3            0.972           29.50    132609.6   53.71   No  \n",
       "4            1.014           34.80    105485.4   44.57   No  \n",
       "..             ...             ...         ...     ...  ...  \n",
       "239          1.206           24.40    374637.0  188.26   No  \n",
       "240          3.423            4.65      5955.0    8.49   No  \n",
       "241          1.172           37.20    157757.4   77.04  Yes  \n",
       "242          1.140           57.10    698630.4  331.85  Yes  \n",
       "243          1.157           18.50    130314.0   62.82   No  \n",
       "\n",
       "[244 rows x 15 columns]"
      ]
     },
     "execution_count": 57,
     "metadata": {},
     "output_type": "execute_result"
    }
   ],
   "source": [
    "customer_profile\n"
   ]
  },
  {
   "cell_type": "code",
   "execution_count": 58,
   "id": "cfaff758",
   "metadata": {},
   "outputs": [
    {
     "data": {
      "text/html": [
       "<div>\n",
       "<style scoped>\n",
       "    .dataframe tbody tr th:only-of-type {\n",
       "        vertical-align: middle;\n",
       "    }\n",
       "\n",
       "    .dataframe tbody tr th {\n",
       "        vertical-align: top;\n",
       "    }\n",
       "\n",
       "    .dataframe thead th {\n",
       "        text-align: right;\n",
       "    }\n",
       "</style>\n",
       "<table border=\"1\" class=\"dataframe\">\n",
       "  <thead>\n",
       "    <tr style=\"text-align: right;\">\n",
       "      <th></th>\n",
       "      <th>identifier</th>\n",
       "      <th>age</th>\n",
       "    </tr>\n",
       "  </thead>\n",
       "  <tbody>\n",
       "    <tr>\n",
       "      <th>0</th>\n",
       "      <td>0</td>\n",
       "      <td>54</td>\n",
       "    </tr>\n",
       "    <tr>\n",
       "      <th>1</th>\n",
       "      <td>1</td>\n",
       "      <td>23</td>\n",
       "    </tr>\n",
       "    <tr>\n",
       "      <th>2</th>\n",
       "      <td>2</td>\n",
       "      <td>3</td>\n",
       "    </tr>\n",
       "    <tr>\n",
       "      <th>3</th>\n",
       "      <td>3</td>\n",
       "      <td>42</td>\n",
       "    </tr>\n",
       "    <tr>\n",
       "      <th>4</th>\n",
       "      <td>4</td>\n",
       "      <td>47</td>\n",
       "    </tr>\n",
       "  </tbody>\n",
       "</table>\n",
       "</div>"
      ],
      "text/plain": [
       "   identifier  age\n",
       "0           0   54\n",
       "1           1   23\n",
       "2           2    3\n",
       "3           3   42\n",
       "4           4   47"
      ]
     },
     "execution_count": 58,
     "metadata": {},
     "output_type": "execute_result"
    }
   ],
   "source": [
    "customers_age = pd.read_csv('https://raw.githubusercontent.com/OpenClassrooms-Student-Center/en-8253136-Use-Python-Libraries-for-Data-Science/main/data/customers_age.csv')\n",
    "customers_age.head()"
   ]
  },
  {
   "cell_type": "code",
   "execution_count": null,
   "id": "93077148",
   "metadata": {},
   "outputs": [],
   "source": []
  },
  {
   "cell_type": "code",
   "execution_count": 59,
   "id": "19269738",
   "metadata": {},
   "outputs": [
    {
     "data": {
      "text/html": [
       "<div>\n",
       "<style scoped>\n",
       "    .dataframe tbody tr th:only-of-type {\n",
       "        vertical-align: middle;\n",
       "    }\n",
       "\n",
       "    .dataframe tbody tr th {\n",
       "        vertical-align: top;\n",
       "    }\n",
       "\n",
       "    .dataframe thead th {\n",
       "        text-align: right;\n",
       "    }\n",
       "</style>\n",
       "<table border=\"1\" class=\"dataframe\">\n",
       "  <thead>\n",
       "    <tr style=\"text-align: right;\">\n",
       "      <th></th>\n",
       "      <th>identifier</th>\n",
       "      <th>email</th>\n",
       "      <th>name</th>\n",
       "      <th>gender</th>\n",
       "      <th>city</th>\n",
       "      <th>zip code</th>\n",
       "      <th>income</th>\n",
       "      <th>repayment</th>\n",
       "      <th>term</th>\n",
       "      <th>type</th>\n",
       "      <th>interest_rate</th>\n",
       "      <th>debt_to_income</th>\n",
       "      <th>total_cost</th>\n",
       "      <th>profit</th>\n",
       "      <th>risk</th>\n",
       "      <th>age</th>\n",
       "    </tr>\n",
       "  </thead>\n",
       "  <tbody>\n",
       "    <tr>\n",
       "      <th>0</th>\n",
       "      <td>0</td>\n",
       "      <td>JohnSmith@rhyta.com</td>\n",
       "      <td>John Smith</td>\n",
       "      <td>M</td>\n",
       "      <td>CHICAGO</td>\n",
       "      <td>60100</td>\n",
       "      <td>3669.0</td>\n",
       "      <td>1130.05</td>\n",
       "      <td>240</td>\n",
       "      <td>real estate</td>\n",
       "      <td>1.168</td>\n",
       "      <td>30.80</td>\n",
       "      <td>271212.0</td>\n",
       "      <td>131.99</td>\n",
       "      <td>No</td>\n",
       "      <td>54.0</td>\n",
       "    </tr>\n",
       "    <tr>\n",
       "      <th>1</th>\n",
       "      <td>1</td>\n",
       "      <td>MaryJohnson@fleckens.hu</td>\n",
       "      <td>Mary Johnson</td>\n",
       "      <td>F</td>\n",
       "      <td>DETROIT</td>\n",
       "      <td>48009</td>\n",
       "      <td>5310.0</td>\n",
       "      <td>240.00</td>\n",
       "      <td>64</td>\n",
       "      <td>automobile</td>\n",
       "      <td>3.701</td>\n",
       "      <td>4.52</td>\n",
       "      <td>15360.0</td>\n",
       "      <td>23.69</td>\n",
       "      <td>No</td>\n",
       "      <td>23.0</td>\n",
       "    </tr>\n",
       "    <tr>\n",
       "      <th>2</th>\n",
       "      <td>1</td>\n",
       "      <td>MaryJohnson@fleckens.hu</td>\n",
       "      <td>Mary Johnson</td>\n",
       "      <td>F</td>\n",
       "      <td>DETROIT</td>\n",
       "      <td>48009</td>\n",
       "      <td>5310.0</td>\n",
       "      <td>1247.85</td>\n",
       "      <td>300</td>\n",
       "      <td>real estate</td>\n",
       "      <td>1.173</td>\n",
       "      <td>23.50</td>\n",
       "      <td>374355.0</td>\n",
       "      <td>182.97</td>\n",
       "      <td>No</td>\n",
       "      <td>23.0</td>\n",
       "    </tr>\n",
       "    <tr>\n",
       "      <th>3</th>\n",
       "      <td>2</td>\n",
       "      <td>WilliamBrown@einrot.com</td>\n",
       "      <td>William Brown</td>\n",
       "      <td>M</td>\n",
       "      <td>SAN FRANCISCO</td>\n",
       "      <td>94010</td>\n",
       "      <td>1873.0</td>\n",
       "      <td>552.54</td>\n",
       "      <td>240</td>\n",
       "      <td>real estate</td>\n",
       "      <td>0.972</td>\n",
       "      <td>29.50</td>\n",
       "      <td>132609.6</td>\n",
       "      <td>53.71</td>\n",
       "      <td>No</td>\n",
       "      <td>3.0</td>\n",
       "    </tr>\n",
       "    <tr>\n",
       "      <th>4</th>\n",
       "      <td>3</td>\n",
       "      <td>JamesLee@armyspy.com</td>\n",
       "      <td>James Lee</td>\n",
       "      <td>M</td>\n",
       "      <td>SAN FRANCISCO</td>\n",
       "      <td>94010</td>\n",
       "      <td>1684.0</td>\n",
       "      <td>586.03</td>\n",
       "      <td>180</td>\n",
       "      <td>real estate</td>\n",
       "      <td>1.014</td>\n",
       "      <td>34.80</td>\n",
       "      <td>105485.4</td>\n",
       "      <td>44.57</td>\n",
       "      <td>No</td>\n",
       "      <td>42.0</td>\n",
       "    </tr>\n",
       "    <tr>\n",
       "      <th>...</th>\n",
       "      <td>...</td>\n",
       "      <td>...</td>\n",
       "      <td>...</td>\n",
       "      <td>...</td>\n",
       "      <td>...</td>\n",
       "      <td>...</td>\n",
       "      <td>...</td>\n",
       "      <td>...</td>\n",
       "      <td>...</td>\n",
       "      <td>...</td>\n",
       "      <td>...</td>\n",
       "      <td>...</td>\n",
       "      <td>...</td>\n",
       "      <td>...</td>\n",
       "      <td>...</td>\n",
       "      <td>...</td>\n",
       "    </tr>\n",
       "    <tr>\n",
       "      <th>239</th>\n",
       "      <td>224</td>\n",
       "      <td>AgnesWelch@armyspy.com</td>\n",
       "      <td>Agnes Welch</td>\n",
       "      <td>F</td>\n",
       "      <td>DETROIT</td>\n",
       "      <td>48008</td>\n",
       "      <td>5118.0</td>\n",
       "      <td>1248.79</td>\n",
       "      <td>300</td>\n",
       "      <td>real estate</td>\n",
       "      <td>1.206</td>\n",
       "      <td>24.40</td>\n",
       "      <td>374637.0</td>\n",
       "      <td>188.26</td>\n",
       "      <td>No</td>\n",
       "      <td>27.0</td>\n",
       "    </tr>\n",
       "    <tr>\n",
       "      <th>240</th>\n",
       "      <td>224</td>\n",
       "      <td>AgnesWelch@armyspy.com</td>\n",
       "      <td>Agnes Welch</td>\n",
       "      <td>F</td>\n",
       "      <td>DETROIT</td>\n",
       "      <td>48008</td>\n",
       "      <td>5118.0</td>\n",
       "      <td>238.20</td>\n",
       "      <td>25</td>\n",
       "      <td>automobile</td>\n",
       "      <td>3.423</td>\n",
       "      <td>4.65</td>\n",
       "      <td>5955.0</td>\n",
       "      <td>8.49</td>\n",
       "      <td>No</td>\n",
       "      <td>27.0</td>\n",
       "    </tr>\n",
       "    <tr>\n",
       "      <th>241</th>\n",
       "      <td>225</td>\n",
       "      <td>MarionStokes@teleworm.us</td>\n",
       "      <td>Marion Stokes</td>\n",
       "      <td>M</td>\n",
       "      <td>BALTIMORE</td>\n",
       "      <td>21100</td>\n",
       "      <td>2356.0</td>\n",
       "      <td>876.43</td>\n",
       "      <td>180</td>\n",
       "      <td>real estate</td>\n",
       "      <td>1.172</td>\n",
       "      <td>37.20</td>\n",
       "      <td>157757.4</td>\n",
       "      <td>77.04</td>\n",
       "      <td>Yes</td>\n",
       "      <td>29.0</td>\n",
       "    </tr>\n",
       "    <tr>\n",
       "      <th>242</th>\n",
       "      <td>226</td>\n",
       "      <td>GinaBeck@fleckens.hu</td>\n",
       "      <td>Gina Beck</td>\n",
       "      <td>F</td>\n",
       "      <td>DETROIT</td>\n",
       "      <td>48002</td>\n",
       "      <td>5098.0</td>\n",
       "      <td>2910.96</td>\n",
       "      <td>240</td>\n",
       "      <td>real estate</td>\n",
       "      <td>1.140</td>\n",
       "      <td>57.10</td>\n",
       "      <td>698630.4</td>\n",
       "      <td>331.85</td>\n",
       "      <td>Yes</td>\n",
       "      <td>26.0</td>\n",
       "    </tr>\n",
       "    <tr>\n",
       "      <th>243</th>\n",
       "      <td>227</td>\n",
       "      <td>BeatricePalmer@rhyta.com</td>\n",
       "      <td>Beatrice Palmer</td>\n",
       "      <td>F</td>\n",
       "      <td>DETROIT</td>\n",
       "      <td>48015</td>\n",
       "      <td>2348.0</td>\n",
       "      <td>434.38</td>\n",
       "      <td>300</td>\n",
       "      <td>real estate</td>\n",
       "      <td>1.157</td>\n",
       "      <td>18.50</td>\n",
       "      <td>130314.0</td>\n",
       "      <td>62.82</td>\n",
       "      <td>No</td>\n",
       "      <td>27.0</td>\n",
       "    </tr>\n",
       "  </tbody>\n",
       "</table>\n",
       "<p>244 rows × 16 columns</p>\n",
       "</div>"
      ],
      "text/plain": [
       "     identifier                     email             name gender  \\\n",
       "0             0       JohnSmith@rhyta.com       John Smith      M   \n",
       "1             1   MaryJohnson@fleckens.hu     Mary Johnson      F   \n",
       "2             1   MaryJohnson@fleckens.hu     Mary Johnson      F   \n",
       "3             2   WilliamBrown@einrot.com    William Brown      M   \n",
       "4             3      JamesLee@armyspy.com        James Lee      M   \n",
       "..          ...                       ...              ...    ...   \n",
       "239         224    AgnesWelch@armyspy.com      Agnes Welch      F   \n",
       "240         224    AgnesWelch@armyspy.com      Agnes Welch      F   \n",
       "241         225  MarionStokes@teleworm.us    Marion Stokes      M   \n",
       "242         226      GinaBeck@fleckens.hu        Gina Beck      F   \n",
       "243         227  BeatricePalmer@rhyta.com  Beatrice Palmer      F   \n",
       "\n",
       "              city  zip code  income  repayment  term         type  \\\n",
       "0          CHICAGO     60100  3669.0    1130.05   240  real estate   \n",
       "1          DETROIT     48009  5310.0     240.00    64   automobile   \n",
       "2          DETROIT     48009  5310.0    1247.85   300  real estate   \n",
       "3    SAN FRANCISCO     94010  1873.0     552.54   240  real estate   \n",
       "4    SAN FRANCISCO     94010  1684.0     586.03   180  real estate   \n",
       "..             ...       ...     ...        ...   ...          ...   \n",
       "239        DETROIT     48008  5118.0    1248.79   300  real estate   \n",
       "240        DETROIT     48008  5118.0     238.20    25   automobile   \n",
       "241      BALTIMORE     21100  2356.0     876.43   180  real estate   \n",
       "242        DETROIT     48002  5098.0    2910.96   240  real estate   \n",
       "243        DETROIT     48015  2348.0     434.38   300  real estate   \n",
       "\n",
       "     interest_rate  debt_to_income  total_cost  profit risk   age  \n",
       "0            1.168           30.80    271212.0  131.99   No  54.0  \n",
       "1            3.701            4.52     15360.0   23.69   No  23.0  \n",
       "2            1.173           23.50    374355.0  182.97   No  23.0  \n",
       "3            0.972           29.50    132609.6   53.71   No   3.0  \n",
       "4            1.014           34.80    105485.4   44.57   No  42.0  \n",
       "..             ...             ...         ...     ...  ...   ...  \n",
       "239          1.206           24.40    374637.0  188.26   No  27.0  \n",
       "240          3.423            4.65      5955.0    8.49   No  27.0  \n",
       "241          1.172           37.20    157757.4   77.04  Yes  29.0  \n",
       "242          1.140           57.10    698630.4  331.85  Yes  26.0  \n",
       "243          1.157           18.50    130314.0   62.82   No  27.0  \n",
       "\n",
       "[244 rows x 16 columns]"
      ]
     },
     "execution_count": 59,
     "metadata": {},
     "output_type": "execute_result"
    }
   ],
   "source": [
    "data"
   ]
  },
  {
   "cell_type": "code",
   "execution_count": 60,
   "id": "f18d68f0",
   "metadata": {},
   "outputs": [],
   "source": [
    "import matplotlib.pyplot as plt"
   ]
  },
  {
   "cell_type": "code",
   "execution_count": 61,
   "id": "827b4d6b",
   "metadata": {},
   "outputs": [
    {
     "data": {
      "text/plain": [
       "<matplotlib.collections.PathCollection at 0x12b11751a00>"
      ]
     },
     "execution_count": 61,
     "metadata": {},
     "output_type": "execute_result"
    },
    {
     "data": {
      "image/png": "[encoded data removed]",
      "text/plain": [
       "<Figure size 432x288 with 1 Axes>"
      ]
     },
     "metadata": {
      "needs_background": "light"
     },
     "output_type": "display_data"
    }
   ],
   "source": [
    "plt.scatter(data[\"income\"] , data[\"debt_to_income\"])"
   ]
  },
  {
   "cell_type": "code",
   "execution_count": 62,
   "id": "91acb21e",
   "metadata": {},
   "outputs": [
    {
     "data": {
      "text/plain": [
       "<matplotlib.collections.PathCollection at 0x12b1178e130>"
      ]
     },
     "execution_count": 62,
     "metadata": {},
     "output_type": "execute_result"
    },
    {
     "data": {
      "image/png": "[encoded data removed]",
      "text/plain": [
       "<Figure size 432x288 with 1 Axes>"
      ]
     },
     "metadata": {
      "needs_background": "light"
     },
     "output_type": "display_data"
    }
   ],
   "source": [
    "plt.scatter(data[\"income\"] , data[\"debt_to_income\"] , s=10 , c = \"red\" , alpha = 0.5 , marker = \"P\")"
   ]
  },
  {
   "cell_type": "code",
   "execution_count": 63,
   "id": "8c652ffc",
   "metadata": {},
   "outputs": [
    {
     "data": {
      "text/plain": [
       "<matplotlib.collections.PathCollection at 0x12b117e87c0>"
      ]
     },
     "execution_count": 63,
     "metadata": {},
     "output_type": "execute_result"
    },
    {
     "data": {
      "image/png": "[encoded data removed]",
      "text/plain": [
       "<Figure size 432x288 with 1 Axes>"
      ]
     },
     "metadata": {
      "needs_background": "light"
     },
     "output_type": "display_data"
    }
   ],
   "source": [
    "plt.scatter(data[\"income\"] , data[\"debt_to_income\"] , s=60 , c = \"blue\" , alpha = 0.5 , marker = \".\")"
   ]
  },
  {
   "cell_type": "code",
   "execution_count": 64,
   "id": "12e58b97",
   "metadata": {},
   "outputs": [],
   "source": [
    "data = loans.groupby(\"city\")[\"repayment\"].sum()"
   ]
  },
  {
   "cell_type": "code",
   "execution_count": 65,
   "id": "c14be3d9",
   "metadata": {},
   "outputs": [
    {
     "data": {
      "text/plain": [
       "city\n",
       "BALTIMORE        15330.59\n",
       "CHICAGO          19286.18\n",
       "DETROIT          94052.61\n",
       "NEW YORK CITY    23544.24\n",
       "SAN FRANCISCO    40895.72\n",
       "SEATTLE          26064.67\n",
       "Name: repayment, dtype: float64"
      ]
     },
     "execution_count": 65,
     "metadata": {},
     "output_type": "execute_result"
    }
   ],
   "source": [
    "data"
   ]
  },
  {
   "cell_type": "code",
   "execution_count": 66,
   "id": "5f5bb415",
   "metadata": {},
   "outputs": [],
   "source": [
    "data = data.reset_index()\n"
   ]
  },
  {
   "cell_type": "code",
   "execution_count": 67,
   "id": "ca00ce40",
   "metadata": {},
   "outputs": [
    {
     "data": {
      "text/plain": [
       "([<matplotlib.patches.Wedge at 0x12b1185a340>,\n",
       "  <matplotlib.patches.Wedge at 0x12b1185a820>,\n",
       "  <matplotlib.patches.Wedge at 0x12b1185ad30>,\n",
       "  <matplotlib.patches.Wedge at 0x12b11868250>,\n",
       "  <matplotlib.patches.Wedge at 0x12b11868730>,\n",
       "  <matplotlib.patches.Wedge at 0x12b11868c10>],\n",
       " [Text(1.0735482898052735, 0.2397792098080497, 'BALTIMORE'),\n",
       "  Text(0.829928171886456, 0.7219551436960646, 'CHICAGO'),\n",
       "  Text(-0.765521246489669, 0.7899222880593404, 'DETROIT'),\n",
       "  Text(-0.6970241371381706, -0.8509743546351964, 'NEW YORK CITY'),\n",
       "  Text(0.25868913251599157, -1.0691491629880856, 'SAN FRANCISCO'),\n",
       "  Text(1.0241193749093163, -0.4014716751345624, 'SEATTLE')])"
      ]
     },
     "execution_count": 67,
     "metadata": {},
     "output_type": "execute_result"
    },
    {
     "data": {
      "image/png": "[encoded data removed]",
      "text/plain": [
       "<Figure size 432x288 with 1 Axes>"
      ]
     },
     "metadata": {},
     "output_type": "display_data"
    }
   ],
   "source": [
    "plt.pie(x=data[\"repayment\"], labels = data[\"city\"])"
   ]
  },
  {
   "cell_type": "code",
   "execution_count": 68,
   "id": "17fde526",
   "metadata": {},
   "outputs": [
    {
     "data": {
      "text/plain": [
       "([<matplotlib.patches.Wedge at 0x12b118b0370>,\n",
       "  <matplotlib.patches.Wedge at 0x12b118b0a00>,\n",
       "  <matplotlib.patches.Wedge at 0x12b118be160>,\n",
       "  <matplotlib.patches.Wedge at 0x12b118be880>,\n",
       "  <matplotlib.patches.Wedge at 0x12b118befa0>,\n",
       "  <matplotlib.patches.Wedge at 0x12b118cb700>],\n",
       " [Text(1.0735482898052735, 0.2397792098080497, 'BALTIMORE'),\n",
       "  Text(0.829928171886456, 0.7219551436960646, 'CHICAGO'),\n",
       "  Text(-0.765521246489669, 0.7899222880593404, 'DETROIT'),\n",
       "  Text(-0.6970241371381706, -0.8509743546351964, 'NEW YORK CITY'),\n",
       "  Text(0.25868913251599157, -1.0691491629880856, 'SAN FRANCISCO'),\n",
       "  Text(1.0241193749093163, -0.4014716751345624, 'SEATTLE')],\n",
       " [Text(0.58557179443924, 0.1307886598952998, '6.99%'),\n",
       "  Text(0.45268809375624863, 0.39379371474330793, '8.80%'),\n",
       "  Text(-0.41755704353981943, 0.430866702577822, '42.91%'),\n",
       "  Text(-0.38019498389354756, -0.4641678298010162, '10.74%'),\n",
       "  Text(0.14110316319054084, -0.5831722707207738, '18.66%'),\n",
       "  Text(0.5586105681323542, -0.21898455007339765, '11.89%')])"
      ]
     },
     "execution_count": 68,
     "metadata": {},
     "output_type": "execute_result"
    },
    {
     "data": {
      "image/png": "[encoded data removed]",
      "text/plain": [
       "<Figure size 432x288 with 1 Axes>"
      ]
     },
     "metadata": {},
     "output_type": "display_data"
    }
   ],
   "source": [
    "plt.pie(x=data[\"repayment\"], labels = data[\"city\"] , autopct = \"%.2f%%\")"
   ]
  },
  {
   "cell_type": "code",
   "execution_count": 69,
   "id": "188429bb",
   "metadata": {},
   "outputs": [
    {
     "data": {
      "text/plain": [
       "<BarContainer object of 6 artists>"
      ]
     },
     "execution_count": 69,
     "metadata": {},
     "output_type": "execute_result"
    },
    {
     "data": {
      "image/png": "[encoded data removed]",
      "text/plain": [
       "<Figure size 432x288 with 1 Axes>"
      ]
     },
     "metadata": {
      "needs_background": "light"
     },
     "output_type": "display_data"
    }
   ],
   "source": [
    "plt.bar(height = data[\"repayment\"] , x=data[\"city\"] )"
   ]
  },
  {
   "cell_type": "code",
   "execution_count": 70,
   "id": "ba251788",
   "metadata": {},
   "outputs": [],
   "source": [
    "data_sorted = data.sort_values('repayment' , ascending = False)"
   ]
  },
  {
   "cell_type": "code",
   "execution_count": null,
   "id": "ace24223",
   "metadata": {},
   "outputs": [],
   "source": []
  },
  {
   "cell_type": "code",
   "execution_count": 71,
   "id": "d4389f3f",
   "metadata": {},
   "outputs": [
    {
     "data": {
      "text/plain": [
       "<BarContainer object of 6 artists>"
      ]
     },
     "execution_count": 71,
     "metadata": {},
     "output_type": "execute_result"
    },
    {
     "data": {
      "image/png": "[encoded data removed]",
      "text/plain": [
       "<Figure size 432x288 with 1 Axes>"
      ]
     },
     "metadata": {
      "needs_background": "light"
     },
     "output_type": "display_data"
    }
   ],
   "source": [
    "plt.bar( height = data_sorted[\"repayment\"], x=data_sorted[\"city\"])"
   ]
  },
  {
   "cell_type": "code",
   "execution_count": 72,
   "id": "0b0de3d2",
   "metadata": {},
   "outputs": [],
   "source": [
    "data = pd.merge(customer_profile , customers_age , on='identifier', how =\"left\" )"
   ]
  },
  {
   "cell_type": "code",
   "execution_count": 73,
   "id": "44031779",
   "metadata": {},
   "outputs": [
    {
     "data": {
      "text/plain": [
       "(array([38., 42., 43., 27., 31., 17., 10., 11., 15., 10.]),\n",
       " array([1200. , 1760.7, 2321.4, 2882.1, 3442.8, 4003.5, 4564.2, 5124.9,\n",
       "        5685.6, 6246.3, 6807. ]),\n",
       " <BarContainer object of 10 artists>)"
      ]
     },
     "execution_count": 73,
     "metadata": {},
     "output_type": "execute_result"
    },
    {
     "data": {
      "image/png": "[encoded data removed]",
      "text/plain": [
       "<Figure size 432x288 with 1 Axes>"
      ]
     },
     "metadata": {
      "needs_background": "light"
     },
     "output_type": "display_data"
    }
   ],
   "source": [
    "plt.hist(data[\"income\"])"
   ]
  },
  {
   "cell_type": "code",
   "execution_count": 75,
   "id": "bda0b355",
   "metadata": {},
   "outputs": [],
   "source": [
    "revenue_change = ({ \"date\" : [\" 2024-01-01\" , \" 2024-02-01\" , \" 2024-03-01\" , \" 2024-04-01\"] , \"revenue\" : [12000 ,15000 , 7000 , 18000] })"
   ]
  },
  {
   "cell_type": "code",
   "execution_count": 76,
   "id": "bbd979ed",
   "metadata": {},
   "outputs": [
    {
     "data": {
      "text/html": [
       "<div>\n",
       "<style scoped>\n",
       "    .dataframe tbody tr th:only-of-type {\n",
       "        vertical-align: middle;\n",
       "    }\n",
       "\n",
       "    .dataframe tbody tr th {\n",
       "        vertical-align: top;\n",
       "    }\n",
       "\n",
       "    .dataframe thead th {\n",
       "        text-align: right;\n",
       "    }\n",
       "</style>\n",
       "<table border=\"1\" class=\"dataframe\">\n",
       "  <thead>\n",
       "    <tr style=\"text-align: right;\">\n",
       "      <th></th>\n",
       "      <th>date</th>\n",
       "      <th>revenue</th>\n",
       "    </tr>\n",
       "  </thead>\n",
       "  <tbody>\n",
       "    <tr>\n",
       "      <th>0</th>\n",
       "      <td>2024-01-01</td>\n",
       "      <td>12000</td>\n",
       "    </tr>\n",
       "    <tr>\n",
       "      <th>1</th>\n",
       "      <td>2024-02-01</td>\n",
       "      <td>15000</td>\n",
       "    </tr>\n",
       "    <tr>\n",
       "      <th>2</th>\n",
       "      <td>2024-03-01</td>\n",
       "      <td>7000</td>\n",
       "    </tr>\n",
       "    <tr>\n",
       "      <th>3</th>\n",
       "      <td>2024-04-01</td>\n",
       "      <td>18000</td>\n",
       "    </tr>\n",
       "  </tbody>\n",
       "</table>\n",
       "</div>"
      ],
      "text/plain": [
       "          date  revenue\n",
       "0   2024-01-01    12000\n",
       "1   2024-02-01    15000\n",
       "2   2024-03-01     7000\n",
       "3   2024-04-01    18000"
      ]
     },
     "execution_count": 76,
     "metadata": {},
     "output_type": "execute_result"
    }
   ],
   "source": [
    "revenue_change"
   ]
  },
  {
   "cell_type": "code",
   "execution_count": 77,
   "id": "74b89974",
   "metadata": {},
   "outputs": [
    {
     "data": {
      "text/plain": [
       "[<matplotlib.lines.Line2D at 0x12b12a54850>]"
      ]
     },
     "execution_count": 77,
     "metadata": {},
     "output_type": "execute_result"
    },
    {
     "data": {
      "image/png": "[encoded data removed]",
      "text/plain": [
       "<Figure size 432x288 with 1 Axes>"
      ]
     },
     "metadata": {
      "needs_background": "light"
     },
     "output_type": "display_data"
    }
   ],
   "source": [
    "plt.plot(revenue_change[\"date\"] , revenue_change[\"revenue\"])"
   ]
  },
  {
   "cell_type": "code",
   "execution_count": 79,
   "id": "54f34f9b",
   "metadata": {},
   "outputs": [
    {
     "data": {
      "text/plain": [
       "[<matplotlib.lines.Line2D at 0x12b12d29b20>]"
      ]
     },
     "execution_count": 79,
     "metadata": {},
     "output_type": "execute_result"
    },
    {
     "data": {
      "image/png": "[encoded data removed]",
      "text/plain": [
       "<Figure size 432x288 with 1 Axes>"
      ]
     },
     "metadata": {
      "needs_background": "light"
     },
     "output_type": "display_data"
    }
   ],
   "source": [
    "plt.plot(revenue_change[\"date\"] , revenue_change[\"revenue\"] , marker =\"o\" , ls=\"--\" , color = \"green\")"
   ]
  },
  {
   "cell_type": "code",
   "execution_count": 84,
   "id": "a798f305",
   "metadata": {},
   "outputs": [],
   "source": [
    "dt1 = loans.loc[loans[\"city\"] == \"DETROIT\" , :]\n",
    "dt2 = loans.loc[loans[\"city\"] == \"CHICAGO\", :]"
   ]
  },
  {
   "cell_type": "code",
   "execution_count": 87,
   "id": "7ad85e98",
   "metadata": {},
   "outputs": [
    {
     "data": {
      "text/plain": [
       "<matplotlib.legend.Legend at 0x12b13565490>"
      ]
     },
     "execution_count": 87,
     "metadata": {},
     "output_type": "execute_result"
    },
    {
     "data": {
      "image/png": "[encoded data removed]",
      "text/plain": [
       "<Figure size 432x288 with 1 Axes>"
      ]
     },
     "metadata": {
      "needs_background": "light"
     },
     "output_type": "display_data"
    }
   ],
   "source": [
    "plt.scatter(dt1[\"income\"] , dt1[\"interest_rate\"] , label = \"DETROIT\")\n",
    "plt.scatter(dt2[\"income\"] , dt2[\"interest_rate\"] , label = \"CHICAGO\")\n",
    "plt.legend()"
   ]
  },
  {
   "cell_type": "code",
   "execution_count": 89,
   "id": "1cc85f8b",
   "metadata": {},
   "outputs": [
    {
     "data": {
      "text/plain": [
       "<matplotlib.legend.Legend at 0x12b1358bc10>"
      ]
     },
     "execution_count": 89,
     "metadata": {},
     "output_type": "execute_result"
    },
    {
     "data": {
      "image/png": "[encoded data removed]",
      "text/plain": [
       "<Figure size 432x288 with 1 Axes>"
      ]
     },
     "metadata": {
      "needs_background": "light"
     },
     "output_type": "display_data"
    }
   ],
   "source": [
    "for city in loans[\"city\"].unique():\n",
    "    df = loans.loc[loans[\"city\"] == city]\n",
    "    plt.scatter(df[\"income\"] , df[\"interest_rate\"] , label = city)\n",
    "\n",
    "plt.legend()"
   ]
  },
  {
   "cell_type": "code",
   "execution_count": 90,
   "id": "fdc4374f",
   "metadata": {},
   "outputs": [],
   "source": [
    "import seaborn as sns\n"
   ]
  },
  {
   "cell_type": "code",
   "execution_count": 93,
   "id": "2926d661",
   "metadata": {},
   "outputs": [
    {
     "data": {
      "text/plain": [
       "<AxesSubplot:xlabel='income', ylabel='debt_to_income'>"
      ]
     },
     "execution_count": 93,
     "metadata": {},
     "output_type": "execute_result"
    },
    {
     "data": {
      "image/png": "[encoded data removed]",
      "text/plain": [
       "<Figure size 432x288 with 1 Axes>"
      ]
     },
     "metadata": {
      "needs_background": "light"
     },
     "output_type": "display_data"
    }
   ],
   "source": [
    "sns.scatterplot(data = loans , x =\"income\" , y = \"debt_to_income\" , hue=\"type\")"
   ]
  },
  {
   "cell_type": "code",
   "execution_count": 94,
   "id": "5b460587",
   "metadata": {},
   "outputs": [
    {
     "data": {
      "image/png": "[encoded data removed]",
      "text/plain": [
       "<Figure size 720x432 with 1 Axes>"
      ]
     },
     "metadata": {
      "needs_background": "light"
     },
     "output_type": "display_data"
    }
   ],
   "source": [
    "plt.figure(figsize=(10,6))\n",
    "\n",
    "plt.rcParams.update({'font.size': 14})\n",
    "\n",
    "sns.scatterplot(data=loans, x='income', y='debt_to_income', hue='type')\n",
    "\n",
    "plt.ylabel(\"Debt to income ratio\")\n",
    "\n",
    "plt.xlabel('Monthly income ($)')\n",
    "\n",
    "plt.grid()\n",
    "\n",
    "plt.xlim(500, 7500)\n",
    "\n",
    "plt.legend(bbox_to_anchor=(1, 1.02))\n",
    "\n",
    "plt.title(\"Debt to income ratio based on monthly income\\nby loan type\")\n",
    "\n",
    "plt.show()"
   ]
  },
  {
   "cell_type": "code",
   "execution_count": 104,
   "id": "d17e1b77",
   "metadata": {},
   "outputs": [
    {
     "data": {
      "text/plain": [
       "<AxesSubplot:xlabel='city', ylabel='repayment'>"
      ]
     },
     "execution_count": 104,
     "metadata": {},
     "output_type": "execute_result"
    },
    {
     "data": {
      "image/png": "[encoded data removed]",
      "text/plain": [
       "<Figure size 792x432 with 1 Axes>"
      ]
     },
     "metadata": {
      "needs_background": "light"
     },
     "output_type": "display_data"
    }
   ],
   "source": [
    "plt.figure(figsize=(11,6))\n",
    "sns.barplot(data=loans , x=\"city\" , y=\"repayment\" , errcolor=None ,errwidth=None, estimator\n",
    "        =sum)"
   ]
  },
  {
   "cell_type": "code",
   "execution_count": 111,
   "id": "60cec8b4",
   "metadata": {},
   "outputs": [
    {
     "data": {
      "text/plain": [
       "<AxesSubplot:xlabel='city', ylabel='repayment'>"
      ]
     },
     "execution_count": 111,
     "metadata": {},
     "output_type": "execute_result"
    },
    {
     "data": {
      "image/png": "[encoded data removed]",
      "text/plain": [
       "<Figure size 792x432 with 1 Axes>"
      ]
     },
     "metadata": {
      "needs_background": "light"
     },
     "output_type": "display_data"
    }
   ],
   "source": [
    "plt.figure(figsize=(11,6))\n",
    "sns.barplot(data=loans, x='city', y='repayment', errorbar=None, estimator=np.mean, hue='type')"
   ]
  },
  {
   "cell_type": "code",
   "execution_count": 120,
   "id": "5509d0f9",
   "metadata": {},
   "outputs": [
    {
     "data": {
      "image/png": "[encoded data removed]",
      "text/plain": [
       "<Figure size 792x432 with 1 Axes>"
      ]
     },
     "metadata": {
      "needs_background": "light"
     },
     "output_type": "display_data"
    }
   ],
   "source": [
    "plt.figure(figsize=(11,6))\n",
    "sns.barplot(data=loans, x='city', y='repayment', estimator=np.mean, hue='type')\n",
    "\n",
    "sns.set_palette('dark')"
   ]
  },
  {
   "cell_type": "code",
   "execution_count": 128,
   "id": "f2285a75",
   "metadata": {},
   "outputs": [
    {
     "data": {
      "image/png": "[encoded data removed]",
      "text/plain": [
       "<Figure size 792x432 with 1 Axes>"
      ]
     },
     "metadata": {},
     "output_type": "display_data"
    }
   ],
   "source": [
    "plt.figure(figsize=(11,6))\n",
    "sns.barplot(data=loans, x='city', y='repayment', estimator=np.mean, hue='type')\n",
    "sns.set_palette('pastel')\n",
    "sns.set_theme(style=\"whitegrid\" , palette=\"pastel\")"
   ]
  },
  {
   "cell_type": "code",
   "execution_count": 129,
   "id": "a86f4acb",
   "metadata": {},
   "outputs": [],
   "source": [
    "import numpy as np\n",
    "import pandas as pd\n",
    "import matplotlib.pyplot as plt\n",
    "import seaborn as sns"
   ]
  },
  {
   "cell_type": "code",
   "execution_count": 131,
   "id": "cfddb54e",
   "metadata": {},
   "outputs": [
    {
     "data": {
      "text/html": [
       "<div>\n",
       "<style scoped>\n",
       "    .dataframe tbody tr th:only-of-type {\n",
       "        vertical-align: middle;\n",
       "    }\n",
       "\n",
       "    .dataframe tbody tr th {\n",
       "        vertical-align: top;\n",
       "    }\n",
       "\n",
       "    .dataframe thead th {\n",
       "        text-align: right;\n",
       "    }\n",
       "</style>\n",
       "<table border=\"1\" class=\"dataframe\">\n",
       "  <thead>\n",
       "    <tr style=\"text-align: right;\">\n",
       "      <th></th>\n",
       "      <th>identifier</th>\n",
       "      <th>city</th>\n",
       "      <th>zip code</th>\n",
       "      <th>income</th>\n",
       "      <th>repayment</th>\n",
       "      <th>term</th>\n",
       "      <th>type</th>\n",
       "      <th>interest_rate</th>\n",
       "      <th>debt_to_income</th>\n",
       "      <th>total_cost</th>\n",
       "      <th>profit</th>\n",
       "      <th>risk</th>\n",
       "    </tr>\n",
       "  </thead>\n",
       "  <tbody>\n",
       "    <tr>\n",
       "      <th>0</th>\n",
       "      <td>0</td>\n",
       "      <td>CHICAGO</td>\n",
       "      <td>60100</td>\n",
       "      <td>3669.0</td>\n",
       "      <td>1130.05</td>\n",
       "      <td>240</td>\n",
       "      <td>real estate</td>\n",
       "      <td>1.168</td>\n",
       "      <td>30.80</td>\n",
       "      <td>271212.0</td>\n",
       "      <td>131.99</td>\n",
       "      <td>No</td>\n",
       "    </tr>\n",
       "    <tr>\n",
       "      <th>1</th>\n",
       "      <td>1</td>\n",
       "      <td>DETROIT</td>\n",
       "      <td>48009</td>\n",
       "      <td>5310.0</td>\n",
       "      <td>240.00</td>\n",
       "      <td>64</td>\n",
       "      <td>automobile</td>\n",
       "      <td>3.701</td>\n",
       "      <td>4.52</td>\n",
       "      <td>15360.0</td>\n",
       "      <td>23.69</td>\n",
       "      <td>No</td>\n",
       "    </tr>\n",
       "    <tr>\n",
       "      <th>2</th>\n",
       "      <td>1</td>\n",
       "      <td>DETROIT</td>\n",
       "      <td>48009</td>\n",
       "      <td>5310.0</td>\n",
       "      <td>1247.85</td>\n",
       "      <td>300</td>\n",
       "      <td>real estate</td>\n",
       "      <td>1.173</td>\n",
       "      <td>23.50</td>\n",
       "      <td>374355.0</td>\n",
       "      <td>182.97</td>\n",
       "      <td>No</td>\n",
       "    </tr>\n",
       "    <tr>\n",
       "      <th>3</th>\n",
       "      <td>2</td>\n",
       "      <td>SAN FRANCISCO</td>\n",
       "      <td>94010</td>\n",
       "      <td>1873.0</td>\n",
       "      <td>552.54</td>\n",
       "      <td>240</td>\n",
       "      <td>real estate</td>\n",
       "      <td>0.972</td>\n",
       "      <td>29.50</td>\n",
       "      <td>132609.6</td>\n",
       "      <td>53.71</td>\n",
       "      <td>No</td>\n",
       "    </tr>\n",
       "    <tr>\n",
       "      <th>4</th>\n",
       "      <td>3</td>\n",
       "      <td>SAN FRANCISCO</td>\n",
       "      <td>94010</td>\n",
       "      <td>1684.0</td>\n",
       "      <td>586.03</td>\n",
       "      <td>180</td>\n",
       "      <td>real estate</td>\n",
       "      <td>1.014</td>\n",
       "      <td>34.80</td>\n",
       "      <td>105485.4</td>\n",
       "      <td>44.57</td>\n",
       "      <td>No</td>\n",
       "    </tr>\n",
       "  </tbody>\n",
       "</table>\n",
       "</div>"
      ],
      "text/plain": [
       "   identifier           city  zip code  income  repayment  term         type  \\\n",
       "0           0        CHICAGO     60100  3669.0    1130.05   240  real estate   \n",
       "1           1        DETROIT     48009  5310.0     240.00    64   automobile   \n",
       "2           1        DETROIT     48009  5310.0    1247.85   300  real estate   \n",
       "3           2  SAN FRANCISCO     94010  1873.0     552.54   240  real estate   \n",
       "4           3  SAN FRANCISCO     94010  1684.0     586.03   180  real estate   \n",
       "\n",
       "   interest_rate  debt_to_income  total_cost  profit risk  \n",
       "0          1.168           30.80    271212.0  131.99   No  \n",
       "1          3.701            4.52     15360.0   23.69   No  \n",
       "2          1.173           23.50    374355.0  182.97   No  \n",
       "3          0.972           29.50    132609.6   53.71   No  \n",
       "4          1.014           34.80    105485.4   44.57   No  "
      ]
     },
     "execution_count": 131,
     "metadata": {},
     "output_type": "execute_result"
    }
   ],
   "source": [
    "loans = pd.read_csv('https://raw.githubusercontent.com/OpenClassrooms-Student-Center/en-8253136-Use-Python-Libraries-for-Data-Science/main/data/loans_final.csv')\n",
    "\n",
    "loans.head()"
   ]
  },
  {
   "cell_type": "code",
   "execution_count": null,
   "id": "81055b9c",
   "metadata": {},
   "outputs": [],
   "source": []
  }
 ],
 "metadata": {
  "kernelspec": {
   "display_name": "Python 3 (ipykernel)",
   "language": "python",
   "name": "python3"
  },
  "language_info": {
   "codemirror_mode": {
    "name": "ipython",
    "version": 3
   },
   "file_extension": ".py",
   "mimetype": "text/x-python",
   "name": "python",
   "nbconvert_exporter": "python",
   "pygments_lexer": "ipython3",
   "version": "3.9.12"
  }
 },
 "nbformat": 4,
 "nbformat_minor": 5
}
